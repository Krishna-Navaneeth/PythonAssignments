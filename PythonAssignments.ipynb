{
  "nbformat": 4,
  "nbformat_minor": 0,
  "metadata": {
    "colab": {
      "provenance": []
    },
    "kernelspec": {
      "name": "python3",
      "display_name": "Python 3"
    },
    "language_info": {
      "name": "python"
    }
  },
  "cells": [
    {
      "cell_type": "markdown",
      "source": [
        "Data Types:\n",
        "\n",
        "Define a variable my_integer with the value 42. Create a variable my_float with the value 3.14. Declare a variable my_string with the value \"Hello, Python!\". Print the type of each variable."
      ],
      "metadata": {
        "id": "NigUr6ug0hF4"
      }
    },
    {
      "cell_type": "code",
      "source": [
        "my_integer = 42\n",
        "my_float = 3.14\n",
        "my_string = \"Hello, Python!\"\n",
        "\n",
        "print(\"Type of variable 'my_integer' :\", type(my_integer))\n",
        "print(\"Type of variable 'my_float' :\", type(my_float))\n",
        "print(\"Type of variable 'my_string' :\", type(my_string))"
      ],
      "metadata": {
        "colab": {
          "base_uri": "https://localhost:8080/"
        },
        "id": "28G7TZFZ0nfn",
        "outputId": "1ddf9986-f597-4c97-eaf0-4e15e9501be8"
      },
      "execution_count": 1,
      "outputs": [
        {
          "output_type": "stream",
          "name": "stdout",
          "text": [
            "Type of variable 'my_integer' : <class 'int'>\n",
            "Type of variable 'my_float' : <class 'float'>\n",
            "Type of variable 'my_string' : <class 'str'>\n"
          ]
        }
      ]
    },
    {
      "cell_type": "markdown",
      "source": [
        "Operators:\n",
        "\n",
        "Implement a program that calculates the area of a rectangle. Take the length and width as input from the user. Use the modulo operator to find the remainder when dividing 15 by 4."
      ],
      "metadata": {
        "id": "RN7BwRTP0zc4"
      }
    },
    {
      "cell_type": "code",
      "source": [
        "length = float(input(\"Enter length : \"))\n",
        "width = float(input(\"Enter width : \"))\n",
        "area = length * width\n",
        "\n",
        "print(\"The area of the rectangle :\", area)\n"
      ],
      "metadata": {
        "colab": {
          "base_uri": "https://localhost:8080/"
        },
        "id": "uxyOZeZn03na",
        "outputId": "bde9ee72-2cca-4168-c4d8-74c8dd763090"
      },
      "execution_count": 2,
      "outputs": [
        {
          "output_type": "stream",
          "name": "stdout",
          "text": [
            "Enter length : 10\n",
            "Enter width : 5\n",
            "The area of the rectangle : 50.0\n"
          ]
        }
      ]
    },
    {
      "cell_type": "code",
      "source": [
        "remainder = 15 % 4\n",
        "print(\"Remainder of 15 divided by 4 :\", remainder)"
      ],
      "metadata": {
        "colab": {
          "base_uri": "https://localhost:8080/"
        },
        "id": "alLjBgIw0_kt",
        "outputId": "341e5035-f636-4dea-d1ae-fa61392173d8"
      },
      "execution_count": 3,
      "outputs": [
        {
          "output_type": "stream",
          "name": "stdout",
          "text": [
            "Remainder of 15 divided by 4 : 3\n"
          ]
        }
      ]
    },
    {
      "cell_type": "markdown",
      "source": [
        "Conditional Programming:\n",
        "\n",
        "Write a program that checks if a number is positive, negative, or zero. Take the number as input from the user. Implement a program that determines if a given year is a leap year."
      ],
      "metadata": {
        "id": "gImStTjg1GBj"
      }
    },
    {
      "cell_type": "code",
      "source": [
        "number = float(input(\"Enter a number: \"))\n",
        "if number > 0:\n",
        "    print(\"It is positive number.\")\n",
        "elif number < 0:\n",
        "    print(\"It is negative number\")\n",
        "else:\n",
        "    print(\"It is zero.\")\n",
        ""
      ],
      "metadata": {
        "colab": {
          "base_uri": "https://localhost:8080/"
        },
        "id": "bpLNrmpj1JRZ",
        "outputId": "38a7436d-4136-4cc0-c3e1-ec68c94ed8d2"
      },
      "execution_count": 4,
      "outputs": [
        {
          "output_type": "stream",
          "name": "stdout",
          "text": [
            "Enter a number: 45\n",
            "It is positive number.\n"
          ]
        }
      ]
    },
    {
      "cell_type": "code",
      "source": [
        "year = int(input(\"Enter a year: \"))\n",
        "if (year % 400 == 0) or (year % 100 != 0) and (year % 400 == 0):\n",
        "    print(\"It is a leap year.\")\n",
        "else:\n",
        "    print(\"It is not a leap year.\")"
      ],
      "metadata": {
        "colab": {
          "base_uri": "https://localhost:8080/"
        },
        "id": "ctF5gMRD1QxM",
        "outputId": "20717d86-ab72-4124-9434-3a574ed132b8"
      },
      "execution_count": 5,
      "outputs": [
        {
          "output_type": "stream",
          "name": "stdout",
          "text": [
            "Enter a year: 2023\n",
            "It is not a leap year.\n"
          ]
        }
      ]
    },
    {
      "cell_type": "markdown",
      "source": [
        "Loops (While & For):\n",
        "\n",
        "Use a while loop to print the square of numbers from 1 to 5. Use a for loop to print each character of the string \"Python\"."
      ],
      "metadata": {
        "id": "hYtKgsyl1XqZ"
      }
    },
    {
      "cell_type": "code",
      "source": [
        "n = 1\n",
        "while n <= 5:\n",
        "    square = n ** 2\n",
        "    print(f\"The square of {n} is {square}\")\n",
        "    n += 1\n",
        ""
      ],
      "metadata": {
        "colab": {
          "base_uri": "https://localhost:8080/"
        },
        "id": "i03qyKeI1a-2",
        "outputId": "54c26446-8751-4834-c20a-4f46187993d7"
      },
      "execution_count": 6,
      "outputs": [
        {
          "output_type": "stream",
          "name": "stdout",
          "text": [
            "The square of 1 is 1\n",
            "The square of 2 is 4\n",
            "The square of 3 is 9\n",
            "The square of 4 is 16\n",
            "The square of 5 is 25\n"
          ]
        }
      ]
    },
    {
      "cell_type": "code",
      "source": [
        "str1= \"Python\"\n",
        "for char in str1:\n",
        "    print(char)"
      ],
      "metadata": {
        "colab": {
          "base_uri": "https://localhost:8080/"
        },
        "id": "O-fo0K3J1mWn",
        "outputId": "0dc1e1a2-7f4f-4812-9096-378950d9c32a"
      },
      "execution_count": 7,
      "outputs": [
        {
          "output_type": "stream",
          "name": "stdout",
          "text": [
            "P\n",
            "y\n",
            "t\n",
            "h\n",
            "o\n",
            "n\n"
          ]
        }
      ]
    },
    {
      "cell_type": "markdown",
      "source": [
        "*args and kwargs:\n",
        "\n",
        "Create a function add_numbers that takes any number of arguments and returns their sum. Define a function print_info that takes any number of keyword arguments and prints them."
      ],
      "metadata": {
        "id": "fxEFeqhl1tYg"
      }
    },
    {
      "cell_type": "code",
      "source": [
        "def add_numbers(*args):\n",
        "    return sum(args)\n",
        "print(\"Sum:\", add_numbers(5, 10, 15, 35, 34 , 45, 45) )\n"
      ],
      "metadata": {
        "colab": {
          "base_uri": "https://localhost:8080/"
        },
        "id": "zgZ9jtWR1xeH",
        "outputId": "63a7ae9e-bc1d-4137-f535-fd221b6632e1"
      },
      "execution_count": 8,
      "outputs": [
        {
          "output_type": "stream",
          "name": "stdout",
          "text": [
            "Sum: 189\n"
          ]
        }
      ]
    },
    {
      "cell_type": "code",
      "source": [
        "def print_info(**kwargs):\n",
        "    for key, value in kwargs.items():\n",
        "        print(f\"{key}: {value}\")\n",
        "print_info(name='Krishna', age=23, city='Kakinada')"
      ],
      "metadata": {
        "colab": {
          "base_uri": "https://localhost:8080/"
        },
        "id": "cBgxijyU134k",
        "outputId": "77002555-360e-4030-b7b4-e4c085ae4fec"
      },
      "execution_count": 9,
      "outputs": [
        {
          "output_type": "stream",
          "name": "stdout",
          "text": [
            "name: Krishna\n",
            "age: 23\n",
            "city: Kakinada\n"
          ]
        }
      ]
    },
    {
      "cell_type": "markdown",
      "source": [
        "Lambda Function:\n",
        "\n",
        "Write a lambda function to calculate the square of a number. Create a list of numbers and use the lambda function with the map function to get a list of their squares."
      ],
      "metadata": {
        "id": "IWreseW-2Bhx"
      }
    },
    {
      "cell_type": "code",
      "source": [
        "square = lambda x: x * x"
      ],
      "metadata": {
        "id": "XKaAv40w2Lyy"
      },
      "execution_count": 10,
      "outputs": []
    },
    {
      "cell_type": "code",
      "source": [
        "\n",
        "n = [1, 2, 3, 4, 5, 6]\n",
        "square = lambda x: x * x\n",
        "\n",
        "squares = list(map(square, n))\n",
        "\n",
        "print(\"Actual Numbers:\", n)\n",
        "print(\"Squares of those Numbers:\", squares)"
      ],
      "metadata": {
        "colab": {
          "base_uri": "https://localhost:8080/"
        },
        "id": "LqcaGC4x2Sa0",
        "outputId": "31abe761-fb7f-4b9c-e9de-5c08d20530f2"
      },
      "execution_count": 11,
      "outputs": [
        {
          "output_type": "stream",
          "name": "stdout",
          "text": [
            "Actual Numbers: [1, 2, 3, 4, 5, 6]\n",
            "Squares of those Numbers: [1, 4, 9, 16, 25, 36]\n"
          ]
        }
      ]
    },
    {
      "cell_type": "markdown",
      "source": [
        "Map:\n",
        "\n",
        "Define a function double that takes a number as input and returns its double. Use the map function to double each element in a list of numbers."
      ],
      "metadata": {
        "id": "f4IneOkJ2iQF"
      }
    },
    {
      "cell_type": "code",
      "source": [
        "def double(x):\n",
        "    return x * 2"
      ],
      "metadata": {
        "id": "XU7Evq8R2vfF"
      },
      "execution_count": 12,
      "outputs": []
    },
    {
      "cell_type": "code",
      "source": [
        "def double(x):\n",
        "    return x * 2\n",
        "\n",
        "n = [1, 2, 3, 4, 5, 6]\n",
        "\n",
        "doubled_list = list(map(double, n))\n",
        "\n",
        "print(\"Actual Numbers:\", n)\n",
        "print(\"Doubled Numbers:\", doubled_list)"
      ],
      "metadata": {
        "colab": {
          "base_uri": "https://localhost:8080/"
        },
        "id": "0dZYf26Y2lq5",
        "outputId": "bf4ea241-3728-447e-d81f-a3e410e03684"
      },
      "execution_count": 13,
      "outputs": [
        {
          "output_type": "stream",
          "name": "stdout",
          "text": [
            "Actual Numbers: [1, 2, 3, 4, 5, 6]\n",
            "Doubled Numbers: [2, 4, 6, 8, 10, 12]\n"
          ]
        }
      ]
    },
    {
      "cell_type": "markdown",
      "source": [
        "Filter:\n",
        "\n",
        "Create a list of numbers and use the filter function to get only the even numbers. Define a function is_prime to check if a number is prime. Use filter to get a list of prime numbers from another list."
      ],
      "metadata": {
        "id": "k9mmeNkw22cn"
      }
    },
    {
      "cell_type": "code",
      "source": [
        "n = [1, 2, 3, 4, 5, 6, 7]\n",
        "\n",
        "even_numbers = list(filter(lambda x: x % 2 == 0, n))\n",
        "\n",
        "print(\"Numbers:\", n)\n",
        "print(\"Even Numbers:\", even_numbers)"
      ],
      "metadata": {
        "colab": {
          "base_uri": "https://localhost:8080/"
        },
        "id": "wa_qmI--23xP",
        "outputId": "20869f95-23e6-48e2-f3dd-e952b41b3408"
      },
      "execution_count": 14,
      "outputs": [
        {
          "output_type": "stream",
          "name": "stdout",
          "text": [
            "Numbers: [1, 2, 3, 4, 5, 6, 7]\n",
            "Even Numbers: [2, 4, 6]\n"
          ]
        }
      ]
    },
    {
      "cell_type": "code",
      "source": [
        "def is_prime(n):\n",
        "    if n < 2:\n",
        "        return False\n",
        "    for i in range(2, int(n/2) + 1):\n",
        "        if n % i == 0:\n",
        "            return False\n",
        "    return True"
      ],
      "metadata": {
        "id": "Tq1dS5Pj3E9Q"
      },
      "execution_count": 15,
      "outputs": []
    },
    {
      "cell_type": "code",
      "source": [
        "another_numbers = [11, 12, 13, 14, 15, 16, 17, 18, 19, 20]\n",
        "prime_numbers = list(filter(is_prime, another_numbers))\n",
        "\n",
        "print(\"Another Numbers:\", another_numbers)\n",
        "print(\"Prime Numbers:\", prime_numbers)"
      ],
      "metadata": {
        "colab": {
          "base_uri": "https://localhost:8080/"
        },
        "id": "fZwJ1x4T3Ipa",
        "outputId": "db8cdd10-c9ca-4a68-bff2-ebb925e10c69"
      },
      "execution_count": 16,
      "outputs": [
        {
          "output_type": "stream",
          "name": "stdout",
          "text": [
            "Another Numbers: [11, 12, 13, 14, 15, 16, 17, 18, 19, 20]\n",
            "Prime Numbers: [11, 13, 17, 19]\n"
          ]
        }
      ]
    },
    {
      "cell_type": "markdown",
      "source": [
        "All and Any:\n",
        "\n",
        "Write a program using all to check if all elements in a list are integers. Implement a program using any to check if any string in a list is longer than 8 characters."
      ],
      "metadata": {
        "id": "r_GCwbAB3Mkm"
      }
    },
    {
      "cell_type": "code",
      "source": [
        "list1 = [1, 2, 'three', 4, 5]\n",
        "\n",
        "all_integers= all(isinstance(item, int) for item in list1)\n",
        "\n",
        "print(\"List :\", list1)\n",
        "print(\"Are all elements integers in List?\", all_integers)"
      ],
      "metadata": {
        "colab": {
          "base_uri": "https://localhost:8080/"
        },
        "id": "476guXYY3P33",
        "outputId": "45bde15d-7437-4a7f-87d0-12536d0ec378"
      },
      "execution_count": 17,
      "outputs": [
        {
          "output_type": "stream",
          "name": "stdout",
          "text": [
            "List : [1, 2, 'three', 4, 5]\n",
            "Are all elements integers in List? False\n"
          ]
        }
      ]
    },
    {
      "cell_type": "code",
      "source": [
        "string = [\"python\", \"java\", \"javascript\"]\n",
        "\n",
        "long_string = any(len(item) > 8 for item in string)\n",
        "\n",
        "print(\"List :\", string)\n",
        "print(\"Does any string have more than 8 characters in List?\", long_string)"
      ],
      "metadata": {
        "colab": {
          "base_uri": "https://localhost:8080/"
        },
        "id": "4HiTRfq03YE0",
        "outputId": "51910bec-ba4b-411f-ca01-ec61c51fc9e2"
      },
      "execution_count": 18,
      "outputs": [
        {
          "output_type": "stream",
          "name": "stdout",
          "text": [
            "List : ['python', 'java', 'javascript']\n",
            "Does any string have more than 8 characters in List? True\n"
          ]
        }
      ]
    }
  ]
}